{
 "cells": [
  {
   "cell_type": "code",
   "execution_count": 2,
   "metadata": {},
   "outputs": [],
   "source": [
    "import pandas as pd # data processing, CSV file I/O (e.g. pd.read_csv)\n",
    "import seaborn as sns\n",
    "from wordcloud import WordCloud\n",
    "from IPython.display import display\n",
    "import base64\n",
    "import string\n",
    "import \n",
    "import re\n",
    "from collections import Counter\n",
    "from time import time\n",
    "# from sklearn.feature_extraction.stop_words import ENGLISH_STOP_WORDS as stopwords\n",
    "from sklearn.metrics import log_loss\n",
    "import matplotlib.pyplot as plt\n",
    "from pywaffle import Waffle\n",
    "\n",
    "from nltk.stem import WordNetLemmatizer\n",
    "from sklearn.feature_extraction.text import TfidfVectorizer, CountVectorizer\n",
    "from sklearn.decomposition import NMF, LatentDirichletAllocation\n",
    "import nltk\n",
    "\n",
    "from nltk.corpus import stopwords\n",
    "from nltk.tokenize import word_tokenize \n",
    "from nltk.collocations import *\n",
    "try:\n",
    "    stopwords = set(stopwords.words('english'))\n",
    "except LookupError:\n",
    "    import nltk\n",
    "    nltk.download('stopwords')\n",
    "    stopwords = set(stopwords.words('english'))\n",
    "#stopwords\n",
    "import csv\n",
    "import io\n",
    "import spacy\n",
    "import numpy as np"
   ]
  },
  {
   "cell_type": "code",
   "execution_count": 3,
   "metadata": {},
   "outputs": [],
   "source": [
    "%matplotlib inline"
   ]
  },
  {
   "cell_type": "code",
   "execution_count": 4,
   "metadata": {},
   "outputs": [],
   "source": [
    "#Pour Sophie\n",
    "def creation_csv(nom_livre,numero_livre):\n",
    "    chemin = r\"C:\\Users\\Sophie\\Harry-Python\\Data\\Book \" + numero_livre + \" - \" + nom_livre + \".txt\"\n",
    "    sortie = r\"C:\\Users\\Sophie\\Harry-Python\\Data\\book\" + numero_livre + \".csv\"\n",
    "    with io.open(chemin,\"r\",encoding=\"utf-8\") as infile, open(sortie, 'w',encoding = 'utf-8-sig') as outfile:\n",
    "        stripped = (line.strip() for line in infile)\n",
    "        lines = (line.split(\",\") for line in stripped if line)\n",
    "        writer = csv.writer(outfile)\n",
    "        writer.writerows(lines)"
   ]
  },
  {
   "cell_type": "code",
   "execution_count": 5,
   "metadata": {},
   "outputs": [],
   "source": [
    "#On crée un dictionnaire\n",
    "Books = {'The Philosophers Stone': '1',\n",
    "        'The Chamber of Secrets': '2',\n",
    "        'The Prisoner of Azkaban': '3',\n",
    "        'The Goblet of Fire':'4',\n",
    "        'The Order of the Phoenix': '5',\n",
    "        'The Half Blood Prince': '6',\n",
    "        'The Deathly Hallows': '7'}"
   ]
  },
  {
   "cell_type": "code",
   "execution_count": 6,
   "metadata": {},
   "outputs": [
    {
     "name": "stderr",
     "output_type": "stream",
     "text": [
      "<ipython-input-6-1664f9427c7a>:6: ParserWarning: Falling back to the 'python' engine because the 'c' engine does not support regex separators (separators > 1 char and different from '\\s+' are interpreted as regex); you can avoid this warning by specifying engine='python'.\n",
      "  Books_csv['book' + i] = pd.read_csv(r\"C:\\Users\\Sophie\\Harry-Python\\Data\\book\" + i + \".csv\" ,encoding = 'utf-8-sig', sep='delimiter', header=None)\n"
     ]
    }
   ],
   "source": [
    "#Pour Sophie\n",
    "#On fait une boucle exécutant la fonction sur chaque élément du dictionnaire\n",
    "Books_csv = {}\n",
    "for title, i in Books.items():\n",
    "    creation_csv(title, i)\n",
    "    Books_csv['book' + i] = pd.read_csv(r\"C:\\Users\\Sophie\\Harry-Python\\Data\\book\" + i + \".csv\" ,encoding = 'utf-8-sig', sep='delimiter', header=None)"
   ]
  },
  {
   "cell_type": "code",
   "execution_count": 7,
   "metadata": {},
   "outputs": [
    {
     "data": {
      "text/html": [
       "<div>\n",
       "<style scoped>\n",
       "    .dataframe tbody tr th:only-of-type {\n",
       "        vertical-align: middle;\n",
       "    }\n",
       "\n",
       "    .dataframe tbody tr th {\n",
       "        vertical-align: top;\n",
       "    }\n",
       "\n",
       "    .dataframe thead th {\n",
       "        text-align: right;\n",
       "    }\n",
       "</style>\n",
       "<table border=\"1\" class=\"dataframe\">\n",
       "  <thead>\n",
       "    <tr style=\"text-align: right;\">\n",
       "      <th></th>\n",
       "      <th>Books</th>\n",
       "      <th>Text</th>\n",
       "    </tr>\n",
       "  </thead>\n",
       "  <tbody>\n",
       "    <tr>\n",
       "      <th>0</th>\n",
       "      <td>book1</td>\n",
       "      <td>...</td>\n",
       "    </tr>\n",
       "    <tr>\n",
       "      <th>1</th>\n",
       "      <td>book2</td>\n",
       "      <td>...</td>\n",
       "    </tr>\n",
       "    <tr>\n",
       "      <th>2</th>\n",
       "      <td>book3</td>\n",
       "      <td>...</td>\n",
       "    </tr>\n",
       "    <tr>\n",
       "      <th>3</th>\n",
       "      <td>book4</td>\n",
       "      <td>...</td>\n",
       "    </tr>\n",
       "    <tr>\n",
       "      <th>4</th>\n",
       "      <td>book5</td>\n",
       "      <td>...</td>\n",
       "    </tr>\n",
       "    <tr>\n",
       "      <th>5</th>\n",
       "      <td>book6</td>\n",
       "      <td>...</td>\n",
       "    </tr>\n",
       "    <tr>\n",
       "      <th>6</th>\n",
       "      <td>book7</td>\n",
       "      <td>...</td>\n",
       "    </tr>\n",
       "  </tbody>\n",
       "</table>\n",
       "</div>"
      ],
      "text/plain": [
       "   Books                                               Text\n",
       "0  book1                                                ...\n",
       "1  book2                                                ...\n",
       "2  book3                                                ...\n",
       "3  book4                                                ...\n",
       "4  book5                                                ...\n",
       "5  book6                                                ...\n",
       "6  book7                                                ..."
      ]
     },
     "execution_count": 7,
     "metadata": {},
     "output_type": "execute_result"
    }
   ],
   "source": [
    "# Créer un tableau avec tous les livres\n",
    "df_books = pd.DataFrame(Books_csv.items(), columns = ['Books', 'Text'])\n",
    "df_books"
   ]
  },
  {
   "cell_type": "code",
   "execution_count": 8,
   "metadata": {},
   "outputs": [],
   "source": [
    "#On veut éliminer le numéro de page hyper relou\n",
    "import re\n",
    "pattern = [\"Page[\\s]?\\|[\\s]?[0-9]?[0-9]?[0-9][\\s]?Harry Potter and the Philosophers Stone[\\s]?-[\\s]?J.K. Rowling\",\n",
    "           \"Page[\\s]?\\|[\\s]?[0-9]?[0-9]?[0-9][\\s]?Harry Potter and the Chamber of Secrets[\\s]?-[\\s]?J.K. Rowling\",\n",
    "          \"Page[\\s]?\\|[\\s]?[0-9]?[0-9]?[0-9][\\s]?Harry Potter and the Prisoner of Azkaban[\\s]?-[\\s]?J.K. Rowling\",\n",
    "          \"Page[\\s]?\\|[\\s]?[0-9]?[0-9]?[0-9][\\s]?Harry Potter and the Goblet of Fire[\\s]?-[\\s]?J.K. Rowling\",\n",
    "          \"Page[\\s]?\\|[\\s]?[l0-9]?[lOU0-9]?[lOU0-9]?[lOU0-9][\\s]?Harry Potter and the Order of the Phoenix[\\s]?-[\\s]?J.K. Rowling\",\n",
    "          \"Page[\\s]?\\|[\\s]?[0-9]?[0-9]?[0-9][\\s]?Harry Potter and the Half Blood Prince[\\s]?-[\\s]?J.K. Rowling\",\n",
    "          \"Page[\\s]?\\|[\\s]?[0-9]?[0-9]?[0-9]?[0-9][\\s]?Harry Potter and the Deathly Hallows[\\s]?-[\\s]?J.K. Rowling\"]"
   ]
  },
  {
   "cell_type": "code",
   "execution_count": 9,
   "metadata": {},
   "outputs": [],
   "source": [
    "def clean_page(text, pattern):\n",
    "    for ele in pattern:\n",
    "        liste_regex = re.findall(ele, text, re.IGNORECASE)\n",
    "        for expression in liste_regex:\n",
    "            text = text.replace(expression, '')\n",
    "    return text"
   ]
  },
  {
   "cell_type": "code",
   "execution_count": 10,
   "metadata": {},
   "outputs": [],
   "source": [
    "#Création du même dictionnaire mais avec texte fusionné pour chaque tome\n",
    "all_text = Books_csv.copy()\n",
    "for i in Books_csv:\n",
    "    all_text[i] = ' '.join([text for text in Books_csv[i][0]])"
   ]
  },
  {
   "cell_type": "code",
   "execution_count": 11,
   "metadata": {},
   "outputs": [],
   "source": [
    "#Application de la fonction au dictionnaire des livres\n",
    "for i in all_text:\n",
    "    all_text[i] = clean_page(all_text[i], pattern)"
   ]
  },
  {
   "cell_type": "code",
   "execution_count": 12,
   "metadata": {},
   "outputs": [],
   "source": [
    "#nltk.download('punkt')\n",
    "all_text_clean = all_text.copy()\n",
    "\n",
    "for i in all_text:\n",
    "    \n",
    "    text_list = C.word_tokenize(all_text[i])\n",
    "    text_list = [x.lower() for x in text_list]\n",
    "    text_clean = [w.lower() for w in text_list if w not in stopwords and w.isalpha()]\n",
    "    text_clean = ' '.join(text.lower() for text in text_clean)\n",
    "    all_text_clean[i] = text_clean"
   ]
  },
  {
   "cell_type": "code",
   "execution_count": 27,
   "metadata": {},
   "outputs": [
    {
     "name": "stdout",
     "output_type": "stream",
     "text": [
      "Object ` package vaderSentiment` not found.\n"
     ]
    }
   ],
   "source": [
    "#package pour l'analyse des sentiments\n",
    "#!pip install vaderSentiment\n",
    "? vaderSentiment\n",
    "from vaderSentiment.vaderSentiment import SentimentIntensityAnalyzer"
   ]
  },
  {
   "cell_type": "code",
   "execution_count": 38,
   "metadata": {},
   "outputs": [
    {
     "name": "stdout",
     "output_type": "stream",
     "text": [
      "{'neg': 0.0, 'neu': 0.329, 'pos': 0.671, 'compound': 0.8805}\n",
      "{'neg': 0.0, 'neu': 0.294, 'pos': 0.706, 'compound': 0.8633}\n",
      "{'neg': 0.0, 'neu': 0.486, 'pos': 0.514, 'compound': 0.8126}\n",
      "{'neg': 0.0, 'neu': 0.678, 'pos': 0.322, 'compound': 0.431}\n",
      "{'neg': 0.322, 'neu': 0.678, 'pos': 0.0, 'compound': -0.5849}\n",
      "{'neg': 0.567, 'neu': 0.433, 'pos': 0.0, 'compound': -0.762}\n"
     ]
    }
   ],
   "source": [
    "sentiment_model = SentimentIntensityAnalyzer()\n",
    "phrases = [\n",
    "    \"Our Saturday classes and fun and super interesting!\",\n",
    "    \"Make sure you :) or :D today!\",\n",
    "    \"The book was great, I enjoyed it very much.\",\n",
    "    \"At least it isn't a horrible book.\",\n",
    "    \"I got a very bad grade on my homework.\",\n",
    "    \"Today is a really terrible day :(\"\n",
    "]\n",
    "for phrase in phrases:\n",
    "    # on obtient le score de la phrase\n",
    "    scores = sentiment_model.polarity_scores(phrase)\n",
    "    print (scores)\n",
    "    \n",
    "    # print the sentence and sentiment\n",
    "    print(phrase)\n",
    "    \n",
    "    # the {: <15} characters just tell python to add spaces between columns\n",
    "    print(\"negative: {: <15} neutral: {: <15} positive: {: <15} compound: {}\\n\".format(\n",
    "        scores['neg'], scores['neu'], scores['pos'], scores['compound']\n",
    "    ))"
   ]
  },
  {
   "cell_type": "markdown",
   "metadata": {},
   "source": [
    "On obtient la proportion du texte qui est positive, négative ou neutre. Un mot extrêmement positif sera associé à la valeur 1, un mot extrêmement négatif à 0. Compound donne la somme des notes de chaque mot."
   ]
  },
  {
   "cell_type": "code",
   "execution_count": 28,
   "metadata": {},
   "outputs": [],
   "source": [
    "#pour chaque livre, on calcule le score de sentiments positifs\n",
    "\n",
    "book_scores = []\n",
    "for i in all_text_clean:\n",
    "\n",
    "    words = nltk.word_tokenize(all_text_clean[str(i)])\n",
    "\n",
    "    # on regarde le score de chaque mot et on les somme\n",
    "    all_scores = []    \n",
    "    for word in words:\n",
    "        scores = sentiment_model.polarity_scores(word)\n",
    "        compound_score = scores['compound']\n",
    "        all_scores.append(compound_score)\n",
    "\n",
    "    # on fait la moyenne pour chaque livre à partir du score de chaque mot\n",
    "    book_score = sum(all_scores) / len(all_scores)\n",
    "    book_scores.append(book_score)"
   ]
  },
  {
   "cell_type": "code",
   "execution_count": 93,
   "metadata": {},
   "outputs": [
    {
     "name": "stdout",
     "output_type": "stream",
     "text": [
      "[0.005374916733952407, 0.0030386115115892047, 0.003553512159850472, 0.0044260720376837455, 0.0038894091718745046, 0.0067082858604412664, -0.000797572314567129]\n"
     ]
    }
   ],
   "source": [
    "print(book_scores)"
   ]
  },
  {
   "cell_type": "code",
   "execution_count": 97,
   "metadata": {},
   "outputs": [
    {
     "data": {
      "image/png": "[encoded data removed]",
      "text/plain": [
       "<Figure size 576x432 with 1 Axes>"
      ]
     },
     "metadata": {
      "needs_background": "light"
     },
     "output_type": "display_data"
    }
   ],
   "source": [
    "#on fait un graphe de la positvité des sentiments selon le livre\n",
    "x = np.linspace(1,7,7)\n",
    "plt.figure(figsize=(8,6))\n",
    "plt.plot(x, book_scores, marker = 'o', label = 'Positivité des sentiments')\n",
    "plt.title('Evolution des sentiments')\n",
    "plt.xlabel('Livre')\n",
    "plt.ylabel('Taux de sentiments positifs')\n",
    "plt.show()"
   ]
  },
  {
   "cell_type": "markdown",
   "metadata": {},
   "source": [
    "Comme on étudie des romans, la plupart des mots sont neutres ce qui explique que les taux soient très proches de 0. Il est intéressant alors de comparer les livres entre eux, mais les scores en eux-mêmes ne sont pas très intéressants.\n",
    "On va alors essayer de ne pas prendre en compte les mots neutres."
   ]
  },
  {
   "cell_type": "code",
   "execution_count": 42,
   "metadata": {},
   "outputs": [],
   "source": [
    "book_scores_2 = []\n",
    "for i in all_text_clean:\n",
    "\n",
    "    words = nltk.word_tokenize(all_text_clean[str(i)])\n",
    "\n",
    "    # on regarde le score de chaque mot et on les somme\n",
    "    all_scores = []    \n",
    "    for word in words:\n",
    "        if sentiment_model.polarity_scores(word)['neu'] == 0: #on garde que ceux où le score neutre est nul\n",
    "            scores = sentiment_model.polarity_scores(word)\n",
    "            compound_score = scores['compound']\n",
    "            all_scores.append(compound_score)\n",
    "\n",
    "        # on fait la moyenne pour chaque livre à partir du score de chaque mot\n",
    "    book_score = sum(all_scores) / len(all_scores)\n",
    "    book_scores_2.append(book_score)"
   ]
  },
  {
   "cell_type": "code",
   "execution_count": 43,
   "metadata": {},
   "outputs": [
    {
     "name": "stdout",
     "output_type": "stream",
     "text": [
      "[0.046258132464712665, 0.025635441616766334, 0.02947123007166905, 0.03568681345665873, 0.03014775639150511, 0.0490693511353002, -0.006135129094412444]\n"
     ]
    }
   ],
   "source": [
    "print(book_scores_2)"
   ]
  },
  {
   "cell_type": "markdown",
   "metadata": {},
   "source": [
    "On constate que l'on a des résultats moins proches de 0."
   ]
  },
  {
   "cell_type": "code",
   "execution_count": 45,
   "metadata": {},
   "outputs": [
    {
     "data": {
      "image/png": "[encoded data removed]",
      "text/plain": [
       "<Figure size 576x432 with 1 Axes>"
      ]
     },
     "metadata": {
      "needs_background": "light"
     },
     "output_type": "display_data"
    }
   ],
   "source": [
    "x = np.linspace(1,7,7)\n",
    "plt.figure(figsize=(8,6))\n",
    "plt.plot(x, book_scores_2, marker = 'o', label = 'Positivité des sentiments')\n",
    "plt.title('Evolution des sentiments quand on supprime les mots neutres')\n",
    "plt.xlabel('Livre')\n",
    "plt.ylabel('Taux de sentiments positifs')\n",
    "plt.show()"
   ]
  },
  {
   "cell_type": "markdown",
   "metadata": {},
   "source": [
    "La courbe est la même que dans le cas avec les mots neutres, seule l'échelle est changée. En effet, les mots neutres n'affectaient pas le score car dans le \"compound\", ils valaient 0. Si l'on peut analyser les différences entre les livres, on ne peut pas en sortir de tendance nette en termes de positivité des sentiments car les valeurs restent tout de même proches de 0."
   ]
  }
 ],
 "metadata": {
  "kernelspec": {
   "display_name": "Python 3",
   "language": "python",
   "name": "python3"
  },
  "language_info": {
   "codemirror_mode": {
    "name": "ipython",
    "version": 3
   },
   "file_extension": ".py",
   "mimetype": "text/x-python",
   "name": "python",
   "nbconvert_exporter": "python",
   "pygments_lexer": "ipython3",
   "version": "3.8.5"
  }
 },
 "nbformat": 4,
 "nbformat_minor": 2
}
